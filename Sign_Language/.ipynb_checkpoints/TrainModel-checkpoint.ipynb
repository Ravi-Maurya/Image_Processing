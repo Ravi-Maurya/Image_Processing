{
 "cells": [
  {
   "cell_type": "code",
   "execution_count": 9,
   "metadata": {},
   "outputs": [],
   "source": [
    "import pandas as pd\n",
    "import numpy as np\n",
    "import pickle\n",
    "import matplotlib.pyplot as plt\n",
    "%matplotlib inline\n",
    "\n",
    "import tensorflow as tf\n",
    "from tensorflow.keras.models import Sequential, model_from_json\n",
    "from tensorflow.keras.layers import Dense, Conv2D, Activation, MaxPooling2D, Flatten, Dropout\n",
    "from tensorflow.keras.callbacks import ModelCheckpoint"
   ]
  },
  {
   "cell_type": "code",
   "execution_count": 10,
   "metadata": {},
   "outputs": [],
   "source": [
    "X = pickle.load(open('Data/Image_Pixels.pickle','rb'))\n",
    "y = pickle.load(open('Data/Image_Labels.pickle', 'rb'))"
   ]
  },
  {
   "cell_type": "code",
   "execution_count": 11,
   "metadata": {},
   "outputs": [],
   "source": [
    "X = X/255.0"
   ]
  },
  {
   "cell_type": "code",
   "execution_count": 12,
   "metadata": {},
   "outputs": [
    {
     "name": "stdout",
     "output_type": "stream",
     "text": [
      "_________________________________________________________________\n",
      "Layer (type)                 Output Shape              Param #   \n",
      "=================================================================\n",
      "conv2d_8 (Conv2D)            (None, 28, 28, 128)       2176      \n",
      "_________________________________________________________________\n",
      "max_pooling2d_8 (MaxPooling2 (None, 14, 14, 128)       0         \n",
      "_________________________________________________________________\n",
      "conv2d_9 (Conv2D)            (None, 14, 14, 64)        131136    \n",
      "_________________________________________________________________\n",
      "max_pooling2d_9 (MaxPooling2 (None, 7, 7, 64)          0         \n",
      "_________________________________________________________________\n",
      "flatten_4 (Flatten)          (None, 3136)              0         \n",
      "_________________________________________________________________\n",
      "dense_9 (Dense)              (None, 128)               401536    \n",
      "_________________________________________________________________\n",
      "dense_10 (Dense)             (None, 64)                8256      \n",
      "_________________________________________________________________\n",
      "dense_11 (Dense)             (None, 26)                1690      \n",
      "=================================================================\n",
      "Total params: 544,794\n",
      "Trainable params: 544,794\n",
      "Non-trainable params: 0\n",
      "_________________________________________________________________\n"
     ]
    }
   ],
   "source": [
    "model = Sequential()\n",
    "model.add(Conv2D(128, (4,4), padding='same',activation='relu', input_shape=X.shape[1:],data_format=\"channels_last\"))\n",
    "model.add(MaxPooling2D(strides=2))\n",
    "model.add(Conv2D(64, (4,4), padding='same', activation='relu'))\n",
    "model.add(MaxPooling2D())\n",
    "model.add(Flatten())\n",
    "model.add(Dense(128, activation='relu'))\n",
    "model.add(Dense(64, activation='relu'))\n",
    "model.add(Dense(26, activation='softmax'))\n",
    "model.compile(loss='sparse_categorical_crossentropy', optimizer='adam', metrics=['accuracy'])\n",
    "model.summary()"
   ]
  },
  {
   "cell_type": "code",
   "execution_count": 13,
   "metadata": {},
   "outputs": [
    {
     "name": "stdout",
     "output_type": "stream",
     "text": [
      "Train on 31164 samples, validate on 3463 samples\n",
      "Epoch 1/10\n",
      "\n",
      "Epoch 00001: val_loss improved from inf to 0.64422, saving model to Data/Sign_model.h5\n",
      " - 29s - loss: 1.8021 - acc: 0.4592 - val_loss: 0.6442 - val_acc: 0.7984\n",
      "Epoch 2/10\n",
      "\n",
      "Epoch 00002: val_loss improved from 0.64422 to 0.16615, saving model to Data/Sign_model.h5\n",
      " - 28s - loss: 0.2801 - acc: 0.9194 - val_loss: 0.1662 - val_acc: 0.9578\n",
      "Epoch 3/10\n",
      "\n",
      "Epoch 00003: val_loss improved from 0.16615 to 0.04783, saving model to Data/Sign_model.h5\n",
      " - 28s - loss: 0.0624 - acc: 0.9877 - val_loss: 0.0478 - val_acc: 0.9910\n",
      "Epoch 4/10\n",
      "\n",
      "Epoch 00004: val_loss improved from 0.04783 to 0.01853, saving model to Data/Sign_model.h5\n",
      " - 28s - loss: 0.0147 - acc: 0.9991 - val_loss: 0.0185 - val_acc: 0.9971\n",
      "Epoch 5/10\n",
      "\n",
      "Epoch 00005: val_loss improved from 0.01853 to 0.00663, saving model to Data/Sign_model.h5\n",
      " - 28s - loss: 0.0057 - acc: 1.0000 - val_loss: 0.0066 - val_acc: 1.0000\n",
      "Epoch 6/10\n",
      "\n",
      "Epoch 00006: val_loss improved from 0.00663 to 0.00398, saving model to Data/Sign_model.h5\n",
      " - 28s - loss: 0.0032 - acc: 1.0000 - val_loss: 0.0040 - val_acc: 1.0000\n",
      "Epoch 7/10\n",
      "\n",
      "Epoch 00007: val_loss improved from 0.00398 to 0.00256, saving model to Data/Sign_model.h5\n",
      " - 28s - loss: 0.0019 - acc: 1.0000 - val_loss: 0.0026 - val_acc: 1.0000\n",
      "Epoch 8/10\n",
      "\n",
      "Epoch 00008: val_loss improved from 0.00256 to 0.00178, saving model to Data/Sign_model.h5\n",
      " - 28s - loss: 0.0012 - acc: 1.0000 - val_loss: 0.0018 - val_acc: 1.0000\n",
      "Epoch 9/10\n",
      "\n",
      "Epoch 00009: val_loss improved from 0.00178 to 0.00165, saving model to Data/Sign_model.h5\n",
      " - 28s - loss: 9.1034e-04 - acc: 1.0000 - val_loss: 0.0017 - val_acc: 1.0000\n",
      "Epoch 10/10\n",
      "\n",
      "Epoch 00010: val_loss improved from 0.00165 to 0.00122, saving model to Data/Sign_model.h5\n",
      " - 28s - loss: 6.9952e-04 - acc: 1.0000 - val_loss: 0.0012 - val_acc: 1.0000\n"
     ]
    }
   ],
   "source": [
    "#saving Weights\n",
    "checkpointer = ModelCheckpoint(filepath='Data/Sign_model.h5', verbose=1, save_best_only=True)\n",
    "\n",
    "hist = model.fit(X, y, epochs=10,\n",
    "                 shuffle=True,\n",
    "                 batch_size=200, validation_split=0.1, callbacks=[checkpointer], verbose=2)\n",
    "\n",
    "#saving Model\n",
    "model_json = model.to_json()\n",
    "with open(\"Data/Sign_model.json\", \"w\") as json_file:\n",
    "    json_file.write(model_json)"
   ]
  },
  {
   "cell_type": "code",
   "execution_count": 15,
   "metadata": {},
   "outputs": [
    {
     "data": {
      "image/png": "[encoded data removed]",
      "text/plain": [
       "<Figure size 1008x360 with 2 Axes>"
      ]
     },
     "metadata": {
      "needs_background": "light"
     },
     "output_type": "display_data"
    }
   ],
   "source": [
    "fig = plt.figure(figsize=(14,5))\n",
    "plt.subplot(1, 2, 1)\n",
    "plt.suptitle('Optimizer : Adam', fontsize=10)\n",
    "plt.ylabel('Loss', fontsize=16)\n",
    "plt.plot(hist.history['loss'], color='b', label='Training Loss')\n",
    "plt.plot(hist.history['val_loss'], color='r', label='Validation Loss')\n",
    "plt.legend(loc='upper right')\n",
    "\n",
    "plt.subplot(1, 2, 2)\n",
    "plt.ylabel('Accuracy', fontsize=16)\n",
    "plt.plot(hist.history['acc'], color='b', label='Training Accuracy')\n",
    "plt.plot(hist.history['val_acc'], color='r', label='Validation Accuracy')\n",
    "plt.legend(loc='lower right')\n",
    "plt.show()\n",
    "fig.savefig('Images/Model_Performance.png', dpi=fig.dpi)"
   ]
  },
  {
   "cell_type": "code",
   "execution_count": null,
   "metadata": {},
   "outputs": [],
   "source": []
  }
 ],
 "metadata": {
  "kernelspec": {
   "display_name": "Python 3",
   "language": "python",
   "name": "python3"
  },
  "language_info": {
   "codemirror_mode": {
    "name": "ipython",
    "version": 3
   },
   "file_extension": ".py",
   "mimetype": "text/x-python",
   "name": "python",
   "nbconvert_exporter": "python",
   "pygments_lexer": "ipython3",
   "version": "3.6.8"
  }
 },
 "nbformat": 4,
 "nbformat_minor": 2
}
