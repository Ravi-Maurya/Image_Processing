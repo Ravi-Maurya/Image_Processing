{
 "cells": [
  {
   "cell_type": "code",
   "execution_count": 4,
   "metadata": {},
   "outputs": [],
   "source": [
    "import numpy as np\n",
    "import matplotlib.pyplot as plt\n",
    "%matplotlib inline\n",
    "import pickle\n",
    "\n",
    "import tensorflow as tf\n",
    "from tensorflow.keras import Sequential\n",
    "from tensorflow.keras.layers import Conv2D, MaxPooling2D, Dropout, Flatten, Dense"
   ]
  },
  {
   "cell_type": "code",
   "execution_count": 5,
   "metadata": {},
   "outputs": [],
   "source": [
    "# if you choose to download original data and make an array from it.\n",
    "# import os\n",
    "# import cv2\n",
    "# import random\n",
    "# import pickle\n",
    "\n",
    "# data_dir = 'Data/'\n",
    "# animals = ['Cat', 'Dog']\n",
    "\n",
    "# Image_Size = 50\n",
    "# data = list()\n",
    "# def createData():\n",
    "#     for animal in animals:\n",
    "#         path = os.path.join(data_dir,animal)\n",
    "#         label = animals.index(animal)\n",
    "#         for file in os.listdir(path):\n",
    "#             try:\n",
    "#                 image_array = cv2.imread(os.path.join(path,file), cv2.IMREAD_GRAYSCALE) # as cats and dogs are of similar color\n",
    "#                 image_array = cv2.resize(image_array,(Image_Size,Image_Size))\n",
    "#                 data.append([image_array,label])\n",
    "#             except Exception as e:\n",
    "#                 pass\n",
    "#     random.shuffle(data)\n",
    "\n",
    "# createData()\n",
    "# X = list()\n",
    "# y = list()\n",
    "# for image,label in data:\n",
    "#     X.append(image)\n",
    "#     y.append(label)\n",
    "\n",
    "# X = np.array(X).reshape(-1,Image_Size,Image_Size,1)\n",
    "\n",
    "# pick = open('Data/X.pickle', 'wb')\n",
    "# pickle.dump(X,pick)\n",
    "# pick.close()\n",
    "\n",
    "# pick = open('Data/y.pickle', 'wb')\n",
    "# pickle.dump(y,pick)\n",
    "# pick.close()"
   ]
  },
  {
   "cell_type": "markdown",
   "metadata": {},
   "source": [
    "Load Processed data"
   ]
  },
  {
   "cell_type": "code",
   "execution_count": 6,
   "metadata": {},
   "outputs": [],
   "source": [
    "X = pickle.load(open('Data/X.pickle','rb'))\n",
    "y = pickle.load(open('Data/y.pickle','rb'))"
   ]
  },
  {
   "cell_type": "markdown",
   "metadata": {},
   "source": [
    "Normalize it for Feeding in Neural Nentwork"
   ]
  },
  {
   "cell_type": "code",
   "execution_count": 7,
   "metadata": {},
   "outputs": [],
   "source": [
    "X = X/255.0"
   ]
  },
  {
   "cell_type": "markdown",
   "metadata": {},
   "source": [
    "Model has 2 Convolution layers and the flattneing and sigmoid function for 0 and 1\n",
    "<br>\n",
    "If want to classify more image classes one may change last Dense Layer as Dense(#no. of label, activation = 'softmax')"
   ]
  },
  {
   "cell_type": "code",
   "execution_count": 8,
   "metadata": {},
   "outputs": [
    {
     "name": "stdout",
     "output_type": "stream",
     "text": [
      "WARNING:tensorflow:From C:\\Users\\Ravi.RAVI-DRAGOON\\Anaconda3\\envs\\tf-gpu\\lib\\site-packages\\tensorflow\\python\\ops\\resource_variable_ops.py:435: colocate_with (from tensorflow.python.framework.ops) is deprecated and will be removed in a future version.\n",
      "Instructions for updating:\n",
      "Colocations handled automatically by placer.\n",
      "_________________________________________________________________\n",
      "Layer (type)                 Output Shape              Param #   \n",
      "=================================================================\n",
      "conv2d (Conv2D)              (None, 47, 47, 64)        1088      \n",
      "_________________________________________________________________\n",
      "max_pooling2d (MaxPooling2D) (None, 23, 23, 64)        0         \n",
      "_________________________________________________________________\n",
      "conv2d_1 (Conv2D)            (None, 20, 20, 64)        65600     \n",
      "_________________________________________________________________\n",
      "max_pooling2d_1 (MaxPooling2 (None, 10, 10, 64)        0         \n",
      "_________________________________________________________________\n",
      "flatten (Flatten)            (None, 6400)              0         \n",
      "_________________________________________________________________\n",
      "dense (Dense)                (None, 64)                409664    \n",
      "_________________________________________________________________\n",
      "dense_1 (Dense)              (None, 1)                 65        \n",
      "=================================================================\n",
      "Total params: 476,417\n",
      "Trainable params: 476,417\n",
      "Non-trainable params: 0\n",
      "_________________________________________________________________\n"
     ]
    }
   ],
   "source": [
    "model = Sequential()\n",
    "model.add(Conv2D(64, (4,4), activation='relu', input_shape=X.shape[1:]))\n",
    "model.add(MaxPooling2D(strides=2))\n",
    "model.add(Conv2D(64, (4,4), activation='relu'))\n",
    "model.add(MaxPooling2D())\n",
    "model.add(Flatten())\n",
    "model.add(Dense(64, activation='relu'))\n",
    "model.add(Dense(1, activation='sigmoid'))\n",
    "model.summary()"
   ]
  },
  {
   "cell_type": "code",
   "execution_count": 9,
   "metadata": {},
   "outputs": [],
   "source": [
    "model.compile(optimizer='adam',\n",
    "              loss='binary_crossentropy',\n",
    "              metrics=['accuracy'])"
   ]
  },
  {
   "cell_type": "code",
   "execution_count": 11,
   "metadata": {},
   "outputs": [
    {
     "name": "stdout",
     "output_type": "stream",
     "text": [
      "Train on 22451 samples, validate on 2495 samples\n",
      "Epoch 1/5\n",
      "22451/22451 [==============================] - 37s 2ms/sample - loss: 0.5017 - acc: 0.7562 - val_loss: 0.4980 - val_acc: 0.7607\n",
      "Epoch 2/5\n",
      "22451/22451 [==============================] - 40s 2ms/sample - loss: 0.4704 - acc: 0.7778 - val_loss: 0.5234 - val_acc: 0.7507\n",
      "Epoch 3/5\n",
      "22451/22451 [==============================] - 41s 2ms/sample - loss: 0.4539 - acc: 0.7873 - val_loss: 0.4821 - val_acc: 0.7743\n",
      "Epoch 4/5\n",
      "22451/22451 [==============================] - 39s 2ms/sample - loss: 0.4310 - acc: 0.8043 - val_loss: 0.4828 - val_acc: 0.7707\n",
      "Epoch 5/5\n",
      "22451/22451 [==============================] - 38s 2ms/sample - loss: 0.4128 - acc: 0.8122 - val_loss: 0.4660 - val_acc: 0.7756\n"
     ]
    }
   ],
   "source": [
    "history = model.fit(X,y, batch_size=64, epochs=5, validation_split=0.1)"
   ]
  },
  {
   "cell_type": "code",
   "execution_count": 12,
   "metadata": {},
   "outputs": [],
   "source": [
    "def eval_metric(history, metric_name):\n",
    "    metric = history.history[metric_name]\n",
    "    val_metric = history.history['val_' + metric_name]\n",
    "\n",
    "    e = range(1, 5 + 1)\n",
    "\n",
    "    plt.plot(e, metric, 'r', label='Train ' + metric_name)\n",
    "    plt.plot(e, val_metric, 'b', label='Validation ' + metric_name)\n",
    "    plt.legend()\n",
    "    plt.show()"
   ]
  },
  {
   "cell_type": "markdown",
   "metadata": {},
   "source": [
    "Does moderate on the data as we can see it goes higher but with some downsides, if we train this for more epochs and less batch size it would provide more accuracy and less loss"
   ]
  },
  {
   "cell_type": "code",
   "execution_count": 13,
   "metadata": {},
   "outputs": [
    {
     "data": {
      "image/png": "[encoded data removed]",
      "text/plain": [
       "<Figure size 432x288 with 1 Axes>"
      ]
     },
     "metadata": {
      "needs_background": "light"
     },
     "output_type": "display_data"
    }
   ],
   "source": [
    "eval_metric(history,'acc')"
   ]
  },
  {
   "cell_type": "code",
   "execution_count": 14,
   "metadata": {},
   "outputs": [
    {
     "data": {
      "image/png": "[encoded data removed]",
      "text/plain": [
       "<Figure size 432x288 with 1 Axes>"
      ]
     },
     "metadata": {
      "needs_background": "light"
     },
     "output_type": "display_data"
    }
   ],
   "source": [
    "eval_metric(history,'loss')"
   ]
  },
  {
   "cell_type": "code",
   "execution_count": null,
   "metadata": {},
   "outputs": [],
   "source": []
  }
 ],
 "metadata": {
  "kernelspec": {
   "display_name": "Python 3",
   "language": "python",
   "name": "python3"
  },
  "language_info": {
   "codemirror_mode": {
    "name": "ipython",
    "version": 3
   },
   "file_extension": ".py",
   "mimetype": "text/x-python",
   "name": "python",
   "nbconvert_exporter": "python",
   "pygments_lexer": "ipython3",
   "version": "3.6.8"
  }
 },
 "nbformat": 4,
 "nbformat_minor": 2
}
