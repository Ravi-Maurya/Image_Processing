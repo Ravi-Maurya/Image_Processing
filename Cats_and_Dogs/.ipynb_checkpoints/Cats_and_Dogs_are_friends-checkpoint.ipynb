{
 "cells": [
  {
   "cell_type": "code",
   "execution_count": 20,
   "metadata": {},
   "outputs": [],
   "source": [
    "import numpy as np\n",
    "import matplotlib.pyplot as plt\n",
    "%matplotlib inline\n",
    "import pickle\n",
    "\n",
    "import tensorflow as tf\n",
    "from tensorflow.keras import Sequential\n",
    "from tensorflow.keras.layers import Conv2D, MaxPooling2D, Dropout, Flatten, Dense, Activation\n",
    "from tensorflow.keras.optimizers import RMSprop"
   ]
  },
  {
   "cell_type": "code",
   "execution_count": 2,
   "metadata": {},
   "outputs": [],
   "source": [
    "# if you choose to download original data and make an array from it.\n",
    "# import os\n",
    "# import cv2\n",
    "# import random\n",
    "# import pickle\n",
    "\n",
    "# data_dir = 'Data/'\n",
    "# animals = ['Cat', 'Dog']\n",
    "\n",
    "# Image_Size = 50\n",
    "# data = list()\n",
    "# def createData():\n",
    "#     for animal in animals:\n",
    "#         path = os.path.join(data_dir,animal)\n",
    "#         label = animals.index(animal)\n",
    "#         for file in os.listdir(path):\n",
    "#             try:\n",
    "#                 image_array = cv2.imread(os.path.join(path,file), cv2.IMREAD_GRAYSCALE) # as cats and dogs are of similar color\n",
    "#                 image_array = cv2.resize(image_array,(Image_Size,Image_Size))\n",
    "#                 data.append([image_array,label])\n",
    "#             except Exception as e:\n",
    "#                 pass\n",
    "#     random.shuffle(data)\n",
    "\n",
    "# createData()\n",
    "# X = list()\n",
    "# y = list()\n",
    "# for image,label in data:\n",
    "#     X.append(image)\n",
    "#     y.append(label)\n",
    "\n",
    "# X = np.array(X).reshape(-1,Image_Size,Image_Size,1)\n",
    "\n",
    "# pick = open('Data/X.pickle', 'wb')\n",
    "# pickle.dump(X,pick)\n",
    "# pick.close()\n",
    "\n",
    "# pick = open('Data/y.pickle', 'wb')\n",
    "# pickle.dump(y,pick)\n",
    "# pick.close()"
   ]
  },
  {
   "cell_type": "markdown",
   "metadata": {},
   "source": [
    "Load Processed data"
   ]
  },
  {
   "cell_type": "code",
   "execution_count": 4,
   "metadata": {},
   "outputs": [],
   "source": [
    "X = pickle.load(open('Data/X.pickle','rb'))\n",
    "y = pickle.load(open('Data/y.pickle','rb'))"
   ]
  },
  {
   "cell_type": "markdown",
   "metadata": {},
   "source": [
    "Normalize it for Feeding in Neural Nentwork"
   ]
  },
  {
   "cell_type": "code",
   "execution_count": 5,
   "metadata": {},
   "outputs": [],
   "source": [
    "X = X/255.0"
   ]
  },
  {
   "cell_type": "markdown",
   "metadata": {},
   "source": [
    "Model has 2 Convolution layers and the flattneing and sigmoid function for 0 and 1\n",
    "<br>\n",
    "If want to classify more image classes one may change last Dense Layer as Dense(#no. of label, activation = 'softmax')"
   ]
  },
  {
   "cell_type": "code",
   "execution_count": 7,
   "metadata": {},
   "outputs": [
    {
     "name": "stdout",
     "output_type": "stream",
     "text": [
      "_________________________________________________________________\n",
      "Layer (type)                 Output Shape              Param #   \n",
      "=================================================================\n",
      "conv2d_2 (Conv2D)            (None, 47, 47, 64)        1088      \n",
      "_________________________________________________________________\n",
      "max_pooling2d_2 (MaxPooling2 (None, 24, 24, 64)        0         \n",
      "_________________________________________________________________\n",
      "conv2d_3 (Conv2D)            (None, 21, 21, 64)        65600     \n",
      "_________________________________________________________________\n",
      "max_pooling2d_3 (MaxPooling2 (None, 11, 11, 64)        0         \n",
      "_________________________________________________________________\n",
      "flatten_1 (Flatten)          (None, 7744)              0         \n",
      "_________________________________________________________________\n",
      "dense_2 (Dense)              (None, 64)                495680    \n",
      "_________________________________________________________________\n",
      "dense_3 (Dense)              (None, 1)                 65        \n",
      "=================================================================\n",
      "Total params: 562,433\n",
      "Trainable params: 562,433\n",
      "Non-trainable params: 0\n",
      "_________________________________________________________________\n"
     ]
    }
   ],
   "source": [
    "model = Sequential()\n",
    "model.add(Conv2D(64, (4,4), activation='relu', input_shape=X.shape[1:]))\n",
    "model.add(MaxPooling2D(strides=2,padding='same'))\n",
    "model.add(Conv2D(64, (4,4), activation='relu'))\n",
    "model.add(MaxPooling2D(padding='same'))\n",
    "model.add(Flatten())\n",
    "model.add(Dense(64, activation='relu'))\n",
    "model.add(Dense(1, activation='sigmoid'))\n",
    "model.summary()"
   ]
  },
  {
   "cell_type": "code",
   "execution_count": 8,
   "metadata": {},
   "outputs": [],
   "source": [
    "model.compile(optimizer='adam',\n",
    "              loss='binary_crossentropy',\n",
    "              metrics=['accuracy'])"
   ]
  },
  {
   "cell_type": "code",
   "execution_count": 9,
   "metadata": {},
   "outputs": [
    {
     "name": "stdout",
     "output_type": "stream",
     "text": [
      "Train on 22451 samples, validate on 2495 samples\n",
      "WARNING:tensorflow:From C:\\Users\\Ravi.RAVI-DRAGOON\\Anaconda3\\envs\\tf-gpu\\lib\\site-packages\\tensorflow\\python\\ops\\math_ops.py:3066: to_int32 (from tensorflow.python.ops.math_ops) is deprecated and will be removed in a future version.\n",
      "Instructions for updating:\n",
      "Use tf.cast instead.\n",
      "Epoch 1/20\n",
      "22451/22451 [==============================] - 38s 2ms/sample - loss: 0.6411 - acc: 0.6170 - val_loss: 0.5977 - val_acc: 0.6717\n",
      "Epoch 2/20\n",
      "22451/22451 [==============================] - 28s 1ms/sample - loss: 0.5435 - acc: 0.7293 - val_loss: 0.5152 - val_acc: 0.7471\n",
      "Epoch 3/20\n",
      "22451/22451 [==============================] - 28s 1ms/sample - loss: 0.4931 - acc: 0.7607 - val_loss: 0.4916 - val_acc: 0.7643\n",
      "Epoch 4/20\n",
      "22451/22451 [==============================] - 28s 1ms/sample - loss: 0.4667 - acc: 0.7791 - val_loss: 0.5088 - val_acc: 0.7431\n",
      "Epoch 5/20\n",
      "22451/22451 [==============================] - 28s 1ms/sample - loss: 0.4444 - acc: 0.7887 - val_loss: 0.4717 - val_acc: 0.7659\n",
      "Epoch 6/20\n",
      "22451/22451 [==============================] - 28s 1ms/sample - loss: 0.4111 - acc: 0.8092 - val_loss: 0.4509 - val_acc: 0.7856\n",
      "Epoch 7/20\n",
      "22451/22451 [==============================] - 28s 1ms/sample - loss: 0.3881 - acc: 0.8237 - val_loss: 0.4667 - val_acc: 0.7808\n",
      "Epoch 8/20\n",
      "22451/22451 [==============================] - 28s 1ms/sample - loss: 0.3726 - acc: 0.8333 - val_loss: 0.4385 - val_acc: 0.7876\n",
      "Epoch 9/20\n",
      "22451/22451 [==============================] - 28s 1ms/sample - loss: 0.3430 - acc: 0.8495 - val_loss: 0.4286 - val_acc: 0.8020\n",
      "Epoch 10/20\n",
      "22451/22451 [==============================] - 28s 1ms/sample - loss: 0.3206 - acc: 0.8602 - val_loss: 0.4348 - val_acc: 0.8060\n",
      "Epoch 11/20\n",
      "22451/22451 [==============================] - 28s 1ms/sample - loss: 0.2931 - acc: 0.8730 - val_loss: 0.4565 - val_acc: 0.7920\n",
      "Epoch 12/20\n",
      "22451/22451 [==============================] - 28s 1ms/sample - loss: 0.2752 - acc: 0.8825 - val_loss: 0.4509 - val_acc: 0.8012\n",
      "Epoch 13/20\n",
      "22451/22451 [==============================] - 28s 1ms/sample - loss: 0.2465 - acc: 0.8956 - val_loss: 0.4705 - val_acc: 0.8012\n",
      "Epoch 14/20\n",
      "22451/22451 [==============================] - 28s 1ms/sample - loss: 0.2225 - acc: 0.9060 - val_loss: 0.5205 - val_acc: 0.7984\n",
      "Epoch 15/20\n",
      "22451/22451 [==============================] - 28s 1ms/sample - loss: 0.2006 - acc: 0.9184 - val_loss: 0.5188 - val_acc: 0.7964\n",
      "Epoch 16/20\n",
      "22451/22451 [==============================] - 28s 1ms/sample - loss: 0.1739 - acc: 0.9297 - val_loss: 0.5568 - val_acc: 0.7888\n",
      "Epoch 17/20\n",
      "22451/22451 [==============================] - 28s 1ms/sample - loss: 0.1522 - acc: 0.9408 - val_loss: 0.5875 - val_acc: 0.7840\n",
      "Epoch 18/20\n",
      "22451/22451 [==============================] - 29s 1ms/sample - loss: 0.1256 - acc: 0.9526 - val_loss: 0.6550 - val_acc: 0.7836\n",
      "Epoch 19/20\n",
      "22451/22451 [==============================] - 28s 1ms/sample - loss: 0.1106 - acc: 0.9606 - val_loss: 0.6538 - val_acc: 0.7972\n",
      "Epoch 20/20\n",
      "22451/22451 [==============================] - 28s 1ms/sample - loss: 0.0873 - acc: 0.9712 - val_loss: 0.7400 - val_acc: 0.7824\n"
     ]
    }
   ],
   "source": [
    "history = model.fit(X,y, batch_size=100, epochs=20, validation_split=0.1)"
   ]
  },
  {
   "cell_type": "code",
   "execution_count": 11,
   "metadata": {},
   "outputs": [],
   "source": [
    "def eval_metric(history, metric_name):\n",
    "    metric = history.history[metric_name]\n",
    "    val_metric = history.history['val_' + metric_name]\n",
    "\n",
    "    e = range(1, 20 + 1)\n",
    "\n",
    "    plt.plot(e, metric, 'r', label='Train ' + metric_name)\n",
    "    plt.plot(e, val_metric, 'b', label='Validation ' + metric_name)\n",
    "    plt.legend()\n",
    "    plt.show()"
   ]
  },
  {
   "cell_type": "markdown",
   "metadata": {},
   "source": [
    "Does moderate on the data as we can see it goes higher but with some downsides, if we train this for more epochs and less batch size it would provide more accuracy and less loss"
   ]
  },
  {
   "cell_type": "code",
   "execution_count": 12,
   "metadata": {},
   "outputs": [
    {
     "data": {
      "image/png": "[encoded data removed]",
      "text/plain": [
       "<Figure size 432x288 with 1 Axes>"
      ]
     },
     "metadata": {
      "needs_background": "light"
     },
     "output_type": "display_data"
    }
   ],
   "source": [
    "eval_metric(history,'acc')"
   ]
  },
  {
   "cell_type": "code",
   "execution_count": 13,
   "metadata": {},
   "outputs": [
    {
     "data": {
      "image/png": "[encoded data removed]",
      "text/plain": [
       "<Figure size 432x288 with 1 Axes>"
      ]
     },
     "metadata": {
      "needs_background": "light"
     },
     "output_type": "display_data"
    }
   ],
   "source": [
    "eval_metric(history,'loss')"
   ]
  },
  {
   "cell_type": "code",
   "execution_count": 21,
   "metadata": {},
   "outputs": [
    {
     "name": "stdout",
     "output_type": "stream",
     "text": [
      "_________________________________________________________________\n",
      "Layer (type)                 Output Shape              Param #   \n",
      "=================================================================\n",
      "conv2d_29 (Conv2D)           (None, 49, 49, 32)        160       \n",
      "_________________________________________________________________\n",
      "conv2d_30 (Conv2D)           (None, 48, 48, 32)        4128      \n",
      "_________________________________________________________________\n",
      "max_pooling2d_15 (MaxPooling (None, 24, 24, 32)        0         \n",
      "_________________________________________________________________\n",
      "conv2d_31 (Conv2D)           (None, 23, 23, 64)        8256      \n",
      "_________________________________________________________________\n",
      "conv2d_32 (Conv2D)           (None, 22, 22, 64)        16448     \n",
      "_________________________________________________________________\n",
      "max_pooling2d_16 (MaxPooling (None, 11, 11, 64)        0         \n",
      "_________________________________________________________________\n",
      "conv2d_33 (Conv2D)           (None, 10, 10, 128)       32896     \n",
      "_________________________________________________________________\n",
      "conv2d_34 (Conv2D)           (None, 9, 9, 128)         65664     \n",
      "_________________________________________________________________\n",
      "max_pooling2d_17 (MaxPooling (None, 4, 4, 128)         0         \n",
      "_________________________________________________________________\n",
      "conv2d_35 (Conv2D)           (None, 3, 3, 256)         131328    \n",
      "_________________________________________________________________\n",
      "conv2d_36 (Conv2D)           (None, 2, 2, 256)         262400    \n",
      "_________________________________________________________________\n",
      "max_pooling2d_18 (MaxPooling (None, 1, 1, 256)         0         \n",
      "_________________________________________________________________\n",
      "flatten_3 (Flatten)          (None, 256)               0         \n",
      "_________________________________________________________________\n",
      "dense_7 (Dense)              (None, 256)               65792     \n",
      "_________________________________________________________________\n",
      "dropout_2 (Dropout)          (None, 256)               0         \n",
      "_________________________________________________________________\n",
      "dense_8 (Dense)              (None, 256)               65792     \n",
      "_________________________________________________________________\n",
      "dropout_3 (Dropout)          (None, 256)               0         \n",
      "_________________________________________________________________\n",
      "dense_9 (Dense)              (None, 1)                 257       \n",
      "_________________________________________________________________\n",
      "activation (Activation)      (None, 1)                 0         \n",
      "=================================================================\n",
      "Total params: 653,121\n",
      "Trainable params: 653,121\n",
      "Non-trainable params: 0\n",
      "_________________________________________________________________\n"
     ]
    }
   ],
   "source": [
    "model = Sequential()\n",
    "\n",
    "model.add(Conv2D(32, (2,2),input_shape=X.shape[1:], activation='relu'))\n",
    "model.add(Conv2D(32, (2,2),activation='relu'))\n",
    "model.add(MaxPooling2D(pool_size=(2, 2)))\n",
    "\n",
    "model.add(Conv2D(64, (2,2),activation='relu'))\n",
    "model.add(Conv2D(64,(2,2),activation='relu'))\n",
    "model.add(MaxPooling2D(pool_size=(2, 2)))\n",
    "\n",
    "model.add(Conv2D(128, (2,2),activation='relu'))\n",
    "model.add(Conv2D(128, (2,2),activation='relu'))\n",
    "model.add(MaxPooling2D(pool_size=(2, 2)))\n",
    "\n",
    "model.add(Conv2D(256, (2,2),activation='relu'))\n",
    "model.add(Conv2D(256, (2,2),activation='relu'))\n",
    "model.add(MaxPooling2D(pool_size=(2, 2)))\n",
    "\n",
    "model.add(Flatten())\n",
    "model.add(Dense(256, activation='relu'))\n",
    "model.add(Dropout(0.5))\n",
    "\n",
    "model.add(Dense(256, activation='relu'))\n",
    "model.add(Dropout(0.5))\n",
    "\n",
    "model.add(Dense(1))\n",
    "model.add(Activation('sigmoid'))\n",
    "\n",
    "model.summary()"
   ]
  },
  {
   "cell_type": "code",
   "execution_count": 22,
   "metadata": {},
   "outputs": [],
   "source": [
    "model.compile(loss='binary_crossentropy',\n",
    "              optimizer=RMSprop(lr=0.0001),\n",
    "              metrics=['accuracy'])"
   ]
  },
  {
   "cell_type": "code",
   "execution_count": 23,
   "metadata": {},
   "outputs": [
    {
     "name": "stdout",
     "output_type": "stream",
     "text": [
      "Train on 22451 samples, validate on 2495 samples\n",
      "Epoch 1/20\n",
      "22451/22451 [==============================] - 38s 2ms/sample - loss: 0.6905 - acc: 0.5296 - val_loss: 0.6743 - val_acc: 0.6048\n",
      "Epoch 2/20\n",
      "22451/22451 [==============================] - 35s 2ms/sample - loss: 0.6661 - acc: 0.5944 - val_loss: 0.6400 - val_acc: 0.6361\n",
      "Epoch 3/20\n",
      "22451/22451 [==============================] - 35s 2ms/sample - loss: 0.6483 - acc: 0.6215 - val_loss: 0.6238 - val_acc: 0.6549\n",
      "Epoch 4/20\n",
      "22451/22451 [==============================] - 35s 2ms/sample - loss: 0.6338 - acc: 0.6390 - val_loss: 0.6056 - val_acc: 0.6818\n",
      "Epoch 5/20\n",
      "22451/22451 [==============================] - 35s 2ms/sample - loss: 0.6182 - acc: 0.6608 - val_loss: 0.6955 - val_acc: 0.5760\n",
      "Epoch 6/20\n",
      "22451/22451 [==============================] - 35s 2ms/sample - loss: 0.5927 - acc: 0.6869 - val_loss: 0.6045 - val_acc: 0.6758\n",
      "Epoch 7/20\n",
      "22451/22451 [==============================] - 35s 2ms/sample - loss: 0.5635 - acc: 0.7102 - val_loss: 0.5192 - val_acc: 0.7511\n",
      "Epoch 8/20\n",
      "22451/22451 [==============================] - 35s 2ms/sample - loss: 0.5374 - acc: 0.7319 - val_loss: 0.5066 - val_acc: 0.7479\n",
      "Epoch 9/20\n",
      "22451/22451 [==============================] - 35s 2ms/sample - loss: 0.5130 - acc: 0.7492 - val_loss: 0.5230 - val_acc: 0.7487\n",
      "Epoch 10/20\n",
      "22451/22451 [==============================] - 35s 2ms/sample - loss: 0.4979 - acc: 0.7612 - val_loss: 0.5253 - val_acc: 0.7491\n",
      "Epoch 11/20\n",
      "22451/22451 [==============================] - 35s 2ms/sample - loss: 0.4751 - acc: 0.7748 - val_loss: 0.5032 - val_acc: 0.7631\n",
      "Epoch 12/20\n",
      "22451/22451 [==============================] - 35s 2ms/sample - loss: 0.4617 - acc: 0.7850 - val_loss: 0.4824 - val_acc: 0.7671\n",
      "Epoch 13/20\n",
      "22451/22451 [==============================] - 35s 2ms/sample - loss: 0.4477 - acc: 0.7942 - val_loss: 0.4505 - val_acc: 0.7996\n",
      "Epoch 14/20\n",
      "22451/22451 [==============================] - 35s 2ms/sample - loss: 0.4297 - acc: 0.8049 - val_loss: 0.5188 - val_acc: 0.7451\n",
      "Epoch 15/20\n",
      "22451/22451 [==============================] - 35s 2ms/sample - loss: 0.4147 - acc: 0.8142 - val_loss: 0.5067 - val_acc: 0.7551\n",
      "Epoch 16/20\n",
      "22451/22451 [==============================] - 35s 2ms/sample - loss: 0.3979 - acc: 0.8242 - val_loss: 0.4649 - val_acc: 0.7916\n",
      "Epoch 17/20\n",
      "22451/22451 [==============================] - 35s 2ms/sample - loss: 0.3837 - acc: 0.8297 - val_loss: 0.4678 - val_acc: 0.7772\n",
      "Epoch 18/20\n",
      "22451/22451 [==============================] - 35s 2ms/sample - loss: 0.3679 - acc: 0.8399 - val_loss: 0.4299 - val_acc: 0.8020\n",
      "Epoch 19/20\n",
      "22451/22451 [==============================] - 35s 2ms/sample - loss: 0.3475 - acc: 0.8496 - val_loss: 0.4420 - val_acc: 0.8048\n",
      "Epoch 20/20\n",
      "22451/22451 [==============================] - 35s 2ms/sample - loss: 0.3354 - acc: 0.8567 - val_loss: 0.4261 - val_acc: 0.8116\n"
     ]
    }
   ],
   "source": [
    "history = model.fit(X,y, batch_size=100, epochs=20, validation_split=0.1)"
   ]
  },
  {
   "cell_type": "code",
   "execution_count": 24,
   "metadata": {},
   "outputs": [
    {
     "data": {
      "image/png": "[encoded data removed]",
      "text/plain": [
       "<Figure size 432x288 with 1 Axes>"
      ]
     },
     "metadata": {
      "needs_background": "light"
     },
     "output_type": "display_data"
    },
    {
     "data": {
      "image/png": "[encoded data removed]",
      "text/plain": [
       "<Figure size 432x288 with 1 Axes>"
      ]
     },
     "metadata": {
      "needs_background": "light"
     },
     "output_type": "display_data"
    }
   ],
   "source": [
    "eval_metric(history,'acc')\n",
    "eval_metric(history,'loss')"
   ]
  },
  {
   "cell_type": "code",
   "execution_count": 25,
   "metadata": {},
   "outputs": [
    {
     "data": {
      "text/plain": [
       "(24946, 50, 50, 1)"
      ]
     },
     "execution_count": 25,
     "metadata": {},
     "output_type": "execute_result"
    }
   ],
   "source": [
    "X.shape"
   ]
  },
  {
   "cell_type": "code",
   "execution_count": 27,
   "metadata": {},
   "outputs": [
    {
     "data": {
      "text/plain": [
       "(50, 50, 1)"
      ]
     },
     "execution_count": 27,
     "metadata": {},
     "output_type": "execute_result"
    }
   ],
   "source": [
    "X[0].shape"
   ]
  },
  {
   "cell_type": "code",
   "execution_count": 36,
   "metadata": {},
   "outputs": [],
   "source": [
    "import cv2\n",
    "img = cv2.imread('Data/dog.jpg', cv2.IMREAD_GRAYSCALE)\n",
    "img = cv2.resize(img,(50,50))"
   ]
  },
  {
   "cell_type": "code",
   "execution_count": 37,
   "metadata": {},
   "outputs": [
    {
     "data": {
      "text/plain": [
       "<matplotlib.image.AxesImage at 0x27842cb05c0>"
      ]
     },
     "execution_count": 37,
     "metadata": {},
     "output_type": "execute_result"
    },
    {
     "data": {
      "image/png": "[encoded data removed]",
      "text/plain": [
       "<Figure size 432x288 with 1 Axes>"
      ]
     },
     "metadata": {
      "needs_background": "light"
     },
     "output_type": "display_data"
    }
   ],
   "source": [
    "plt.imshow(img)"
   ]
  },
  {
   "cell_type": "code",
   "execution_count": 38,
   "metadata": {},
   "outputs": [],
   "source": [
    "img = img.reshape(-1,50,50,1)"
   ]
  },
  {
   "cell_type": "code",
   "execution_count": 39,
   "metadata": {},
   "outputs": [
    {
     "data": {
      "text/plain": [
       "array([[1.]], dtype=float32)"
      ]
     },
     "execution_count": 39,
     "metadata": {},
     "output_type": "execute_result"
    }
   ],
   "source": [
    "model.predict(img)"
   ]
  },
  {
   "cell_type": "code",
   "execution_count": null,
   "metadata": {},
   "outputs": [],
   "source": []
  }
 ],
 "metadata": {
  "kernelspec": {
   "display_name": "Python 3",
   "language": "python",
   "name": "python3"
  },
  "language_info": {
   "codemirror_mode": {
    "name": "ipython",
    "version": 3
   },
   "file_extension": ".py",
   "mimetype": "text/x-python",
   "name": "python",
   "nbconvert_exporter": "python",
   "pygments_lexer": "ipython3",
   "version": "3.6.8"
  }
 },
 "nbformat": 4,
 "nbformat_minor": 2
}
